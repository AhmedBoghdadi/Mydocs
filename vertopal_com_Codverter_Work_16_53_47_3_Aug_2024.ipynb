{
  "cells": [
    {
      "cell_type": "markdown",
      "source": [
        "### 1. Ramesh’s basic salary is input through the keyboard. His dearness allowance is 40% of  basic salary, and house rent allowance is 20% of basic salary. Write a program to  calculate his gross salary."
      ],
      "metadata": {
        "id": "rygk9zh8N17g"
      },
      "id": "rygk9zh8N17g"
    },
    {
      "cell_type": "code",
      "source": [
        "from ast import literal_eval as leval\n",
        "\n",
        "def main():\n",
        "  basic_salary,S = None,\"\\n\"\n",
        "  while basic_salary is None:\n",
        "        try:\n",
        "          basic_salary = eval(f\"\"\"{leval(input(f\"Enter Ramesh's basic salary{S}\"))}\"\"\")\n",
        "          continue\n",
        "        except (ValueError,SyntaxError,NameError):continue\n",
        "  print(f\"Ramesh's gross salary is {(basic_salary + 0.40 * basic_salary + 0.20 * basic_salary):.3f}\")\n",
        "\n",
        "if __name__ == \"__main__\":\n",
        "  main()"
      ],
      "metadata": {
        "colab": {
          "base_uri": "https://localhost:8080/"
        },
        "id": "Xeu3vFIBNM96",
        "outputId": "4b74b6c4-e563-46f0-e448-a05c5a84b9d4"
      },
      "id": "Xeu3vFIBNM96",
      "execution_count": null,
      "outputs": [
        {
          "output_type": "stream",
          "name": "stdout",
          "text": [
            "Enter Ramesh's basic salary\n",
            "25000\n",
            "Ramesh's gross salary is 40000.000\n"
          ]
        }
      ]
    },
    {
      "cell_type": "markdown",
      "source": [
        "### 2. The distance between two cities (in km.) is input through the keyboard. Write a program  to convert and print this distance in meters, feet, inches and centimeters."
      ],
      "metadata": {
        "id": "IlH-TYvpU7wK"
      },
      "id": "IlH-TYvpU7wK"
    },
    {
      "cell_type": "code",
      "source": [
        "from ast import literal_eval as leval\n",
        "\n",
        "def main():\n",
        "  distance_in_km,S = None,\"\\n\"\n",
        "  while distance_in_km is None:\n",
        "        try:\n",
        "          distance_in_km = eval(f\"{leval(input(f'Enter the distance in kilometers{S}'))}\")\n",
        "          continue\n",
        "        except (ValueError,SyntaxError,NameError):continue\n",
        "  print(f\"Distance in meters: {(distance_in_km * 1000):.3f}\")\n",
        "  print(f\"Distance in feet: {(distance_in_km * 3280.84):.3f}\")\n",
        "  print(f\"Distance in inches: {(distance_in_km * 39370.1):.3f}\")\n",
        "  print(f\"Distance in centimeters: {(distance_in_km * 100000):.3f}\")\n",
        "\n",
        "if __name__ == \"__main__\":\n",
        "  main()"
      ],
      "metadata": {
        "colab": {
          "base_uri": "https://localhost:8080/"
        },
        "id": "HDSl6yqcOX-s",
        "outputId": "adfbb646-1651-4ad2-8dd8-1839bb18ee18"
      },
      "id": "HDSl6yqcOX-s",
      "execution_count": null,
      "outputs": [
        {
          "output_type": "stream",
          "name": "stdout",
          "text": [
            "Enter the distance in kilometers\n",
            "250\n",
            "Distance in meters: 250000.000\n",
            "Distance in feet: 820210.000\n",
            "Distance in inches: 9842525.000\n",
            "Distance in centimeters: 25000000.000\n"
          ]
        }
      ]
    },
    {
      "cell_type": "markdown",
      "source": [
        "### 3. If the marks obtained by a student in five different subjects are input through the  keyboard, find out the aggregate marks and percentage marks obtained by the student.  Assume that the maximum marks that can be obtained by a student in each subject is  100."
      ],
      "metadata": {
        "id": "31bcracLWUcw"
      },
      "id": "31bcracLWUcw"
    },
    {
      "cell_type": "code",
      "source": [
        "from ast import literal_eval as leval\n",
        "\n",
        "def main():\n",
        "  aggregate_marks,S = None,\"\\n\"\n",
        "  while aggregate_marks is None:\n",
        "    try:\n",
        "      aggregate_marks = sum([eval(f'{leval(input(f\"Enter marks for subject {i+1}{S}\"))}') for i in range(5)])\n",
        "      continue\n",
        "    except (ValueError,SyntaxError,NameError):continue\n",
        "  percentage_marks = (aggregate_marks / 500) * 100\n",
        "  print(f\"Aggregate marks: {aggregate_marks:.3f}\")\n",
        "  print(f\"Percentage marks: {percentage_marks:.3f}%\")\n",
        "\n",
        "if __name__ == \"__main__\":\n",
        "  main()"
      ],
      "metadata": {
        "colab": {
          "base_uri": "https://localhost:8080/"
        },
        "id": "APzd5I0zVlAR",
        "outputId": "dd0e8782-6e59-4b34-dffc-8bd6efa7c663"
      },
      "id": "APzd5I0zVlAR",
      "execution_count": null,
      "outputs": [
        {
          "output_type": "stream",
          "name": "stdout",
          "text": [
            "Enter marks for subject 1\n",
            "56\n",
            "Enter marks for subject 2\n",
            "67\n",
            "Enter marks for subject 3\n",
            "89\n",
            "Enter marks for subject 4\n",
            "90\n",
            "Enter marks for subject 5\n",
            "78\n",
            "Aggregate marks: 380.000\n",
            "Percentage marks: 76.000%\n"
          ]
        }
      ]
    },
    {
      "cell_type": "markdown",
      "source": [
        "### 4. Temperature of a city in Fahrenheit degrees is input through the keyboard. Write a  program to convert this temperature into Centigrade degrees."
      ],
      "metadata": {
        "id": "9lH0qZGPn1QJ"
      },
      "id": "9lH0qZGPn1QJ"
    },
    {
      "cell_type": "code",
      "source": [
        "from ast import literal_eval as leval\n",
        "\n",
        "def main():\n",
        "  celsius,S = None,\"\\n\"\n",
        "  while celsius is None:\n",
        "    try:\n",
        "      celsius = (eval(f'{leval(input(f\"Enter temperature in Fahrenheit{S}\"))}') - 32) * 0.55555\n",
        "      continue\n",
        "    except (ValueError,SyntaxError,NameError):continue\n",
        "  print(f\"Temperature in Celsius: {celsius:.3f} °C\")\n",
        "\n",
        "if __name__ == \"__main__\":\n",
        "  main()"
      ],
      "metadata": {
        "colab": {
          "base_uri": "https://localhost:8080/"
        },
        "id": "NsPVvVvcW75Y",
        "outputId": "408c1e56-8043-4ed7-cf8d-a9ed8a2ae6d9"
      },
      "id": "NsPVvVvcW75Y",
      "execution_count": null,
      "outputs": [
        {
          "output_type": "stream",
          "name": "stdout",
          "text": [
            "Enter temperature in Fahrenheit\n",
            "234\n",
            "Temperature in Celsius: 112.221 °C\n"
          ]
        }
      ]
    },
    {
      "cell_type": "markdown",
      "source": [
        "### 5. The length & breadth of a rectangle and radius of a circle are input through the  keyboard. Write a program to calculate the area & perimeter of the rectangle, and the  area & circumference of the circle."
      ],
      "metadata": {
        "id": "LULlnP3Mp_bq"
      },
      "id": "LULlnP3Mp_bq"
    },
    {
      "cell_type": "code",
      "source": [
        "from ast import literal_eval as leval\n",
        "\n",
        "def main():\n",
        "  length,breadth,radius,S=None,None,None,\"\\n\"\n",
        "  while radius is None:\n",
        "    try:\n",
        "      if length is None:\n",
        "        length = eval(f'{leval(input(f\"Enter the length of the rectangle{S}\"))}')\n",
        "      elif breadth is None:\n",
        "        breadth = eval(f'{leval(input(f\"Enter the breadth of the rectangle{S}\"))}')\n",
        "      else:\n",
        "        radius = eval(f'{leval(input(f\"Enter the radius of the circle{S}\"))}')\n",
        "      continue\n",
        "    except (ValueError,SyntaxError,NameError):continue\n",
        "\n",
        "  print(f\"Rectangle area: {(length * breadth):.3f}\")\n",
        "  print(f\"Rectangle perimeter: {(2 * (length + breadth)):.3f}\")\n",
        "  print(f\"Circle area: {(3.1428 * (radius ** 2)):.3f}\")\n",
        "  print(f\"Circle circumference: {(2 * 3.1428 * radius):.3f}\")\n",
        "\n",
        "\n",
        "if __name__ == \"__main__\":\n",
        "  main()"
      ],
      "metadata": {
        "colab": {
          "base_uri": "https://localhost:8080/"
        },
        "id": "ldKsRx9YoALN",
        "outputId": "6a0f8404-7a15-491c-df6b-1bb97346b784"
      },
      "id": "ldKsRx9YoALN",
      "execution_count": null,
      "outputs": [
        {
          "output_type": "stream",
          "name": "stdout",
          "text": [
            "Enter the length of the rectangle\n",
            "12\n",
            "Enter the breadth of the rectangle\n",
            "34\n",
            "Enter the radius of the circle\n",
            "23\n",
            "Rectangle area: 408.000\n",
            "Rectangle perimeter: 92.000\n",
            "Circle area: 1662.541\n",
            "Circle circumference: 144.569\n"
          ]
        }
      ]
    },
    {
      "cell_type": "markdown",
      "source": [
        "### 6. Two numbers are input through the keyboard into two locations C and D. Write a  program to interchange the contents of C and D."
      ],
      "metadata": {
        "id": "JSfaGs6GvbWF"
      },
      "id": "JSfaGs6GvbWF"
    },
    {
      "cell_type": "code",
      "source": [
        "from ast import literal_eval as leval\n",
        "\n",
        "def main():\n",
        "  C,D,S = None,None,'\\n'\n",
        "  while D is None:\n",
        "    try:\n",
        "      if C is None:\n",
        "        C = eval(f'{leval(input(f\"Enter the first number (C){S}\"))}')\n",
        "      else:\n",
        "        D = eval(f\"{leval(input(f'Enter the second number (D){S}'))}\")\n",
        "      continue\n",
        "    except (ValueError,SyntaxError,NameError):continue\n",
        "  C, D = D, C\n",
        "  print(f\"After interchange: C = {C}, D = {D}\")\n",
        "\n",
        "if __name__ == \"__main__\":\n",
        "  main()"
      ],
      "metadata": {
        "colab": {
          "base_uri": "https://localhost:8080/"
        },
        "id": "OklVbI3SuBEP",
        "outputId": "8f9d90be-2fb1-41d8-acc5-c277358ff9a7"
      },
      "id": "OklVbI3SuBEP",
      "execution_count": null,
      "outputs": [
        {
          "output_type": "stream",
          "name": "stdout",
          "text": [
            "Enter the first number (C)\n",
            "23\n",
            "Enter the second number (D)\n",
            "12\n",
            "After interchange: C = 12, D = 23\n"
          ]
        }
      ]
    },
    {
      "cell_type": "markdown",
      "source": [
        "### 7. If a five-digit number is input through the keyboard, write a program to reverse the  number."
      ],
      "metadata": {
        "id": "nvTOTeae5P31"
      },
      "id": "nvTOTeae5P31"
    },
    {
      "cell_type": "code",
      "source": [
        "from ast import literal_eval as leval\n",
        "\n",
        "def main():\n",
        "  number,S = \"\",'\\n'\n",
        "  while not(len(number) == 5 and number.isdigit()):\n",
        "    try:\n",
        "      number = f\"\"\"{eval(f'{leval(input(f\"Enter a five digit number{S}\"))}')}\"\"\"\n",
        "      continue\n",
        "    except (ValueError,SyntaxError,NameError):continue\n",
        "  print(f\"Reversed number: {number[::-1]}\")\n",
        "\n",
        "if __name__ == \"__main__\":\n",
        "  main()"
      ],
      "metadata": {
        "colab": {
          "base_uri": "https://localhost:8080/"
        },
        "id": "HCweNzb0v7-Z",
        "outputId": "53372cc9-ee16-4668-8e47-637f208658bc"
      },
      "id": "HCweNzb0v7-Z",
      "execution_count": null,
      "outputs": [
        {
          "output_type": "stream",
          "name": "stdout",
          "text": [
            "Enter a five digit number\n",
            "12345\n",
            "Reversed number: 54321\n"
          ]
        }
      ]
    },
    {
      "cell_type": "markdown",
      "source": [
        "### 8. If a four-digit number is input through the keyboard, write a program to obtain the sum of  the first and last digit of this number."
      ],
      "metadata": {
        "id": "zq0nH5nV7HS0"
      },
      "id": "zq0nH5nV7HS0"
    },
    {
      "cell_type": "code",
      "source": [
        "from ast import literal_eval as leval\n",
        "\n",
        "def main():\n",
        "  number,S = \"\",'\\n'\n",
        "  while not(len(number) == 4 and number.isdigit()):\n",
        "    try:\n",
        "      number = f\"\"\"{eval(f'{leval(input(f\"Enter a four digit number{S}\"))}')}\"\"\"\n",
        "      continue\n",
        "    except (ValueError,SyntaxError,NameError):continue\n",
        "  print(f\"Sum of first and last digit: {int(number[0]) + int(number[-1])}\")\n",
        "\n",
        "if __name__ == \"__main__\":\n",
        "  main()"
      ],
      "metadata": {
        "colab": {
          "base_uri": "https://localhost:8080/"
        },
        "id": "ew5f9h8N6WQ-",
        "outputId": "1498ebe8-edcb-4ba1-b0a3-57560fdeb9d8"
      },
      "id": "ew5f9h8N6WQ-",
      "execution_count": null,
      "outputs": [
        {
          "output_type": "stream",
          "name": "stdout",
          "text": [
            "Enter a four digit number\n",
            "1234\n",
            "Sum of first and last digit: 5\n"
          ]
        }
      ]
    },
    {
      "cell_type": "markdown",
      "source": [
        "### 9. In a town, the percentage of men is 52. The percentage of total literacy is 48. If total  percentage of literate men is 35 of the total population, write a program to find the total  number of illiterate men and women if the population of the town is 80,000."
      ],
      "metadata": {
        "id": "5Q5BixL59I1j"
      },
      "id": "5Q5BixL59I1j"
    },
    {
      "cell_type": "code",
      "source": [
        "def main():\n",
        "  total_population = 80000\n",
        "  percentage_literate_men = 35\n",
        "  total_men = (52 / 100) * total_population\n",
        "  total_women = total_population - total_men\n",
        "  literate_men = (percentage_literate_men / 100) * total_population\n",
        "  illiterate_men = total_men - (literate_men - (percentage_literate_men / 100) * total_men)\n",
        "  illiterate_women = total_women - ((48 - percentage_literate_men) / 100 * total_population)\n",
        "  print(f\"Total illiterate men: {illiterate_men:.0f}\")\n",
        "  print(f\"Total illiterate women: {illiterate_women:.0f}\")\n",
        "\n",
        "if __name__ == \"__main__\":\n",
        "  main()"
      ],
      "metadata": {
        "colab": {
          "base_uri": "https://localhost:8080/"
        },
        "id": "Tkvq05C78jTZ",
        "outputId": "54916a78-d75b-47f6-e56b-1564a924a445"
      },
      "id": "Tkvq05C78jTZ",
      "execution_count": null,
      "outputs": [
        {
          "output_type": "stream",
          "name": "stdout",
          "text": [
            "Total illiterate men: 28160\n",
            "Total illiterate women: 28000\n"
          ]
        }
      ]
    },
    {
      "cell_type": "markdown",
      "source": [
        "### 8. A cashier has currency notes of denominations 10, 50 and 100. If the amount to be  withdrawn is input through the keyboard in hundreds, find the total number of currency  notes of each denomination the cashier will have to give to the withdrawer."
      ],
      "metadata": {
        "id": "ub77I58XKeK4"
      },
      "id": "ub77I58XKeK4"
    },
    {
      "cell_type": "code",
      "source": [
        "from ast import literal_eval as leval\n",
        "\n",
        "def main():\n",
        "  number,S = \"\",'\\n'\n",
        "  while not(2 < len(number) <= 4 and number.isdigit() and number[-1] == '0' and number[-2] == '0'):\n",
        "    try:\n",
        "      number = f\"\"\"{eval(f'{leval(input(f\"Enter a four digit number{S}\"))}')}\"\"\"\n",
        "      continue\n",
        "    except (ValueError,SyntaxError,NameError):continue\n",
        "  number=int(number)\n",
        "  print(f\"100-denomination notes: {number // 100}\")\n",
        "  print(f\"50-denomination notes: {number // 50}\")\n",
        "  print(f\"10-denomination notes: {number // 10}\")\n",
        "\n",
        "if __name__ == \"__main__\":\n",
        "  main()"
      ],
      "metadata": {
        "colab": {
          "base_uri": "https://localhost:8080/"
        },
        "id": "pjIQe7NL9b7u",
        "outputId": "606555a6-5fbf-4a71-be5f-8081cb4a2b39"
      },
      "id": "pjIQe7NL9b7u",
      "execution_count": null,
      "outputs": [
        {
          "output_type": "stream",
          "name": "stdout",
          "text": [
            "Enter a four digit number\n",
            "1200\n",
            "100-denomination notes: 12\n",
            "50-denomination notes: 24\n",
            "10-denomination notes: 120\n"
          ]
        }
      ]
    }
  ],
  "nbformat": 4,
  "nbformat_minor": 5,
  "metadata": {
    "colab": {
      "provenance": []
    },
    "language_info": {
      "name": "python"
    },
    "kernelspec": {
      "name": "python3",
      "display_name": "Python 3"
    }
  }
}